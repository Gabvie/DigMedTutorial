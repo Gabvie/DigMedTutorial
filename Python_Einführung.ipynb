{
  "cells": [
    {
      "cell_type": "markdown",
      "metadata": {
        "id": "GDGbEV6FUqUz"
      },
      "source": [
        "# Kurze Einführung in Python"
      ]
    },
    {
      "cell_type": "markdown",
      "metadata": {
        "id": "UYHRxNhyUqU2"
      },
      "source": [
        "Teilweise in Anlehnung an das Tutorial https://www.w3schools.com/python/"
      ]
    },
    {
      "cell_type": "markdown",
      "source": [
        "\n",
        "### Vorbereitung\n",
        "\n",
        "Wir stellen die Verbindung zum Google-Drive her, um auf dort abgelegte Datern zurückgreifen zu können.\n",
        "\n",
        "\n"
      ],
      "metadata": {
        "id": "1MjidZKNPRpf"
      }
    },
    {
      "cell_type": "code",
      "source": [
        "from google.colab import drive\n",
        "drive.mount('/content/drive')"
      ],
      "metadata": {
        "id": "IrAsPu0-aqNf"
      },
      "execution_count": null,
      "outputs": []
    },
    {
      "cell_type": "markdown",
      "metadata": {
        "id": "VK4NncbEUqU2"
      },
      "source": [
        "## Rechenoperationen und Variablen\n",
        "\n",
        "---\n",
        "\n"
      ]
    },
    {
      "cell_type": "markdown",
      "metadata": {
        "id": "9xWv3Rj2UqU3"
      },
      "source": [
        "Mit Python kann man (wie mit jeder Programmiersprache) rechnen, wie z.B. mit einem Taschenrechner:"
      ]
    },
    {
      "cell_type": "code",
      "execution_count": null,
      "metadata": {
        "id": "LCsV5P_dUqU4"
      },
      "outputs": [],
      "source": [
        "3+2"
      ]
    },
    {
      "cell_type": "code",
      "execution_count": null,
      "metadata": {
        "id": "kaJC3-w-UqU5"
      },
      "outputs": [],
      "source": [
        "4/3"
      ]
    },
    {
      "cell_type": "code",
      "execution_count": null,
      "metadata": {
        "id": "YxLJhIpMUqU5"
      },
      "outputs": [],
      "source": [
        "5*17"
      ]
    },
    {
      "cell_type": "markdown",
      "metadata": {
        "id": "KxcxfUl4UqU6"
      },
      "source": [
        "### Numerische Variablen"
      ]
    },
    {
      "cell_type": "markdown",
      "metadata": {
        "id": "kW5s-q-oUqU6"
      },
      "source": [
        "Grundlegend für Programmiersprachen sind Variablen, also eine Art Platzhalter, denen man Werte zuweisen kann:"
      ]
    },
    {
      "cell_type": "code",
      "execution_count": null,
      "metadata": {
        "id": "oSCg3LaXUqU7"
      },
      "outputs": [],
      "source": [
        "x = 5"
      ]
    },
    {
      "cell_type": "markdown",
      "metadata": {
        "id": "S_L29SFrUqU7"
      },
      "source": [
        "Achtung: das Gleichheitszeichen heißt nicht wie in der 'normalen' Mathematik, dass etwas gleich ist, sondern eher, dass es gleich sein soll. Das Gleichheitszeichen weist also Werte einer Variablen zu"
      ]
    },
    {
      "cell_type": "markdown",
      "metadata": {
        "id": "lrepfYkoUqU8"
      },
      "source": [
        "Auch mit diesen Variablen kann man rechnen, sind sie einmal zugewiesen:"
      ]
    },
    {
      "cell_type": "code",
      "execution_count": null,
      "metadata": {
        "id": "aBWqxbv6UqU8"
      },
      "outputs": [],
      "source": [
        "x + 5"
      ]
    },
    {
      "cell_type": "markdown",
      "metadata": {
        "id": "rTj7kcKdUqU8"
      },
      "source": [
        "Das Ergebnis von Rechnoperationen kann wieder in Variablen gespeichert werden:"
      ]
    },
    {
      "cell_type": "code",
      "execution_count": null,
      "metadata": {
        "id": "bQXOtcoQUqU8"
      },
      "outputs": [],
      "source": [
        "y = x + 3"
      ]
    },
    {
      "cell_type": "markdown",
      "metadata": {
        "id": "XuBMVxZFUqU9"
      },
      "source": [
        "Der Wert der Rechnung ist nun in y gespeichert. Überprüfen lässt sich das, indem man die Variable ausgibt"
      ]
    },
    {
      "cell_type": "code",
      "execution_count": null,
      "metadata": {
        "id": "PQ0Ib7q0UqU9"
      },
      "outputs": [],
      "source": [
        "y"
      ]
    },
    {
      "cell_type": "markdown",
      "metadata": {
        "id": "Jgg2GTq0UqU9"
      },
      "source": [
        "Hier im Notebook braucht man bloß den Variablennamen abschicken, um die Variable ausgeben zu lassen. Der sozusagen 'offizielle' Weg wäre jedoch, Ausgaben mit einer Funktion zu machen, z.B. print()"
      ]
    },
    {
      "cell_type": "code",
      "execution_count": null,
      "metadata": {
        "id": "P0hxazoaUqU9"
      },
      "outputs": [],
      "source": [
        "print(y)"
      ]
    },
    {
      "cell_type": "markdown",
      "metadata": {
        "id": "ZFt8qF7JUqU-"
      },
      "source": [
        "Funktionen haben einen Funktionsnamen und Eingabewerte, die in der Klammer nach dem Funktionsnamen stehen."
      ]
    },
    {
      "cell_type": "markdown",
      "metadata": {
        "id": "RncMOAaOUqU-"
      },
      "source": [
        "Da das Gleichheitszeichen wie gesagt keine Gleichung anzeigt, sondern eine Zuweisung, kann man die Variable, der man Werte zuweist, auch in der Zuweisung selbst verwenden (dort hat die Variable freilich noch den alten Wert vor der Zuweisung)."
      ]
    },
    {
      "cell_type": "code",
      "execution_count": null,
      "metadata": {
        "id": "M36Wr_muUqU-"
      },
      "outputs": [],
      "source": [
        "y = y + 3\n",
        "print(y)"
      ]
    },
    {
      "cell_type": "markdown",
      "metadata": {
        "id": "qEsCkP3iUqU-"
      },
      "source": [
        "Variablen können mehr oder minder beliebig benannt werden (wenngleich es auch bestimmte Regeln gibt, welche Zeichen man wo verwenden darf; insbesondere dürfen keinen Leerzeichen vorkommen). Oft ist es sinnvoll, Variablen 'sprechend' zu benennen, um den Überblick zu behalten"
      ]
    },
    {
      "cell_type": "code",
      "execution_count": null,
      "metadata": {
        "id": "bDihEtzGUqU_"
      },
      "outputs": [],
      "source": [
        "ausgangswert = 10\n",
        "print(ausgangswert)"
      ]
    },
    {
      "cell_type": "markdown",
      "metadata": {
        "id": "AjGha9QmUqU_"
      },
      "source": [
        "### Strings"
      ]
    },
    {
      "cell_type": "markdown",
      "metadata": {
        "id": "rKhWUTRLUqU_"
      },
      "source": [
        "Auch Textzeichenfolgen (Strings) kann man in Variablen packen, diese müssen nur in Anführungszeichen eingeschlossen werden:"
      ]
    },
    {
      "cell_type": "code",
      "execution_count": null,
      "metadata": {
        "id": "P3SSYMvyUqU_"
      },
      "outputs": [],
      "source": [
        "x = 'Text'"
      ]
    },
    {
      "cell_type": "code",
      "execution_count": null,
      "metadata": {
        "id": "HXf6ZA8eUqVA"
      },
      "outputs": [],
      "source": [
        "print(x)"
      ]
    },
    {
      "cell_type": "markdown",
      "metadata": {
        "id": "TsJ0ZzHrUqVB"
      },
      "source": [
        "Zu beachten: Mit der erneuten Zuweisung von x wurde der Wert von x (der wir oben ja den Wert 5 zugewiesen haben) einfach überschrieben."
      ]
    },
    {
      "cell_type": "markdown",
      "metadata": {
        "id": "_TjhF0AbUqVB"
      },
      "source": [
        "Würde man den String nicht in Anführungszeichen packen, würde Python die Zeichenfolge als Variable auffassen. Das lässt sich mit der Variable ausgangswert verdeutlichen, der wir zuvor den Wert 10 zugewiesen haben:"
      ]
    },
    {
      "cell_type": "code",
      "execution_count": null,
      "metadata": {
        "id": "l8Sc-B7BUqVB"
      },
      "outputs": [],
      "source": [
        "print('ausgangswert')"
      ]
    },
    {
      "cell_type": "code",
      "execution_count": null,
      "metadata": {
        "id": "jdvQp7rHUqVB"
      },
      "outputs": [],
      "source": [
        "print(ausgangswert)"
      ]
    },
    {
      "cell_type": "markdown",
      "metadata": {
        "id": "WfM3L6aRUqVB"
      },
      "source": [
        "Auch Strings kann man einfach addieren"
      ]
    },
    {
      "cell_type": "code",
      "execution_count": null,
      "metadata": {
        "id": "d3t0DQQIUqVC"
      },
      "outputs": [],
      "source": [
        "x = x + ' und Text'"
      ]
    },
    {
      "cell_type": "code",
      "execution_count": null,
      "metadata": {
        "id": "Z9gGtoj8UqVC"
      },
      "outputs": [],
      "source": [
        "print(x)"
      ]
    },
    {
      "cell_type": "markdown",
      "metadata": {
        "id": "CjThOsgZUqVC"
      },
      "source": [
        "Der Computer unterscheidet aber streng zwischen Zahlen- und Buchstabenvariablen. Das folgende geht daher nicht (mehr), da x jetzt einen Buchstabenwert hat."
      ]
    },
    {
      "cell_type": "code",
      "execution_count": null,
      "metadata": {
        "id": "hlw9o8A1UqVC"
      },
      "outputs": [],
      "source": [
        "x+5"
      ]
    },
    {
      "cell_type": "markdown",
      "metadata": {
        "id": "5GoXXTCZUqVC"
      },
      "source": [
        "Der Computer gibt hier eine Fehlermeldung aus, eine sogenannten Error, der (im günstigen Fall) darauf hinweist, was genau falsch ist. Hier: Man kann keine Variable vom Typ string (str) mit einem Wert vom Typ integer (int) verbinden (integer sind ganze Zahlen)."
      ]
    },
    {
      "cell_type": "markdown",
      "metadata": {
        "id": "oH3IXnxFUqVD"
      },
      "source": [
        "#### Aufgabe:\n",
        "\n",
        "Erstellen Sie zwei Textvariablen und verbinden Sie sie."
      ]
    },
    {
      "cell_type": "code",
      "execution_count": null,
      "metadata": {
        "id": "Y9_D68B9UqVD"
      },
      "outputs": [],
      "source": [
        "\n",
        "\n"
      ]
    },
    {
      "cell_type": "markdown",
      "metadata": {
        "id": "CqRIjl2_UqVD"
      },
      "source": [
        "## Kommentare"
      ]
    },
    {
      "cell_type": "markdown",
      "metadata": {
        "id": "dHxWJWo4UqVD"
      },
      "source": [
        "Mit # kann man Kommentare kennzeichnen, also Text, der nicht als Programmcode ausgeführt werden soll, sondern diesen kommentiert.\n",
        "\n",
        "Das ist praktisch, um Code für andere verständlich zu machen."
      ]
    },
    {
      "cell_type": "code",
      "execution_count": null,
      "metadata": {
        "id": "mgwDh4lWUqVE"
      },
      "outputs": [],
      "source": [
        "# Dies ist ein Kommentar\n",
        "# Jetzt folgt gleich eine Print-Anweisung, zunächst im Kommentar, diese wird nicht ausgeführt\n",
        "# print(5)\n",
        "# Dafür aber die nächste ohne vorangehendes #\n",
        "print('Hallo Welt')"
      ]
    },
    {
      "cell_type": "markdown",
      "metadata": {
        "id": "hwD42e9WUqVE"
      },
      "source": [
        "## Fun with Strings"
      ]
    },
    {
      "cell_type": "markdown",
      "metadata": {
        "id": "Z2HBTmsQUqVE"
      },
      "source": [
        "Mit Strings lässt sich viel machen. Zum Beispiel die Länge des Strings (also die Anzahl der Zeichen) bestimmen. Das geht mit der Funktion len():"
      ]
    },
    {
      "cell_type": "code",
      "execution_count": null,
      "metadata": {
        "id": "mkBXVYQyUqVE"
      },
      "outputs": [],
      "source": [
        "x = 'Hallo Welt'\n",
        "print('x besteht aus',len(x), 'Zeichen')"
      ]
    },
    {
      "cell_type": "markdown",
      "metadata": {
        "id": "l40wnwHlUqVE"
      },
      "source": [
        "Die einzelnen Zeichenpositionen lassen sich auch direkt ansprechen:"
      ]
    },
    {
      "cell_type": "code",
      "execution_count": null,
      "metadata": {
        "id": "9vhVFsyOUqVE"
      },
      "outputs": [],
      "source": [
        "print(x[1])"
      ]
    },
    {
      "cell_type": "markdown",
      "metadata": {
        "id": "tw8VrLYAUqVF"
      },
      "source": [
        "Zu beachten: Die Zählung beginnt mit 0. x[0] liefert also das erste Zeichen, x[1] das zweite und so weiter."
      ]
    },
    {
      "cell_type": "markdown",
      "metadata": {
        "id": "CDNZx0AGUqVF"
      },
      "source": [
        "Neben Funktionen gibt es in Python auch sogenannte Methoden, die bestimmte Operationen ausführen. Diese Methoden werden einfach z.B. einem Variablennamen angehängt.\n",
        "\n",
        "Ein gutes Beispiel hierfür sind Methoden zur Modifikation von Strings:"
      ]
    },
    {
      "cell_type": "code",
      "execution_count": null,
      "metadata": {
        "id": "Yjc36x3TUqVF"
      },
      "outputs": [],
      "source": [
        "y = x.upper()\n",
        "print(y)"
      ]
    },
    {
      "cell_type": "code",
      "execution_count": null,
      "metadata": {
        "id": "ovm7doDwUqVF"
      },
      "outputs": [],
      "source": [
        "y = x.lower()\n",
        "print(y)"
      ]
    },
    {
      "cell_type": "code",
      "execution_count": null,
      "metadata": {
        "id": "rT9XcO_9UqVG"
      },
      "outputs": [],
      "source": [
        "x = x.replace('l','k')\n",
        "print(y)"
      ]
    },
    {
      "cell_type": "markdown",
      "metadata": {
        "id": "A8LWWkNjUqVG"
      },
      "source": [
        "## Listen"
      ]
    },
    {
      "cell_type": "markdown",
      "metadata": {
        "id": "cnTmfJu_UqVG"
      },
      "source": [
        "Listen spielen in Python eine große Rolle. Mit ihnen kann man mehrere Werte in einer Variable speichern.\n",
        "\n",
        "Um diese Werte zu einer Liste zusammenzufügen, werden eckige Klammern verwendet"
      ]
    },
    {
      "cell_type": "code",
      "execution_count": null,
      "metadata": {
        "id": "25by55MwUqVG"
      },
      "outputs": [],
      "source": [
        "meineListe = ['Äpfel','Birnen','Zitronen']"
      ]
    },
    {
      "cell_type": "code",
      "execution_count": null,
      "metadata": {
        "id": "4HZ38YriUqVG"
      },
      "outputs": [],
      "source": [
        "print(meineListe)"
      ]
    },
    {
      "cell_type": "markdown",
      "source": [
        "Wie man sieht, gibt Python die Liste auch in eckigen Klammern zurück, die sind sozusagen das Kennzeichen dafür, das man es mit einer Liste zu tun hat."
      ],
      "metadata": {
        "id": "jL7yrtY2WmPw"
      }
    },
    {
      "cell_type": "markdown",
      "metadata": {
        "id": "dYDaYfhgUqVG"
      },
      "source": [
        "Bei Listen kann man nun ähnlich wie bei Strings die Länge der Liste bestimmen bzw. einzelne Einträge aufgreifen. Die Länge der Liste wird in der Anzahl von Listenpunkten gemessen."
      ]
    },
    {
      "cell_type": "code",
      "execution_count": null,
      "metadata": {
        "id": "tKxD0sOvUqVG"
      },
      "outputs": [],
      "source": [
        "print(len(meineListe))"
      ]
    },
    {
      "cell_type": "code",
      "execution_count": null,
      "metadata": {
        "id": "DTx8B1hzUqVH"
      },
      "outputs": [],
      "source": [
        "print(meineListe[2])"
      ]
    },
    {
      "cell_type": "markdown",
      "metadata": {
        "id": "Q2BcXZ0XUqVH"
      },
      "source": [
        "Zudem lassen sich Bereiche von Listen aufgreifen (das ist bei Strings übrigens auch möglich):"
      ]
    },
    {
      "cell_type": "code",
      "execution_count": null,
      "metadata": {
        "id": "wE7NoZqQUqVH"
      },
      "outputs": [],
      "source": [
        "print(meineListe[1:3])"
      ]
    },
    {
      "cell_type": "markdown",
      "metadata": {
        "id": "oMLvUM6aUqVH"
      },
      "source": [
        "An Listen kann man auch weitere Werte anhängen, einfügen oder verändern:"
      ]
    },
    {
      "cell_type": "code",
      "execution_count": null,
      "metadata": {
        "id": "VAxe_esEUqVH"
      },
      "outputs": [],
      "source": [
        "meineListe.append('Orangen')\n",
        "print(meineListe)"
      ]
    },
    {
      "cell_type": "code",
      "execution_count": null,
      "metadata": {
        "id": "x6-rlLTeUqVI"
      },
      "outputs": [],
      "source": [
        "meineListe.insert(1,'Melonen')\n",
        "print(meineListe)"
      ]
    },
    {
      "cell_type": "code",
      "execution_count": null,
      "metadata": {
        "id": "0R4Hyw7eUqVI"
      },
      "outputs": [],
      "source": [
        "meineListe[2] = 'Kokosnuss'\n",
        "print(meineListe)"
      ]
    },
    {
      "cell_type": "code",
      "execution_count": null,
      "metadata": {
        "id": "wA1pK6cYUqVI"
      },
      "outputs": [],
      "source": [
        "x"
      ]
    },
    {
      "cell_type": "markdown",
      "metadata": {
        "id": "_oXys09IUqVI"
      },
      "source": [
        "Zeichenfolgen lassen sich mit der Methode split() bequem wortweise in Listen aufteilen (als Wortgrenze gilt das Leerzeichen):"
      ]
    },
    {
      "cell_type": "code",
      "execution_count": null,
      "metadata": {
        "id": "w-pX5pMBUqVI"
      },
      "outputs": [],
      "source": [
        "x.split()"
      ]
    },
    {
      "cell_type": "code",
      "execution_count": null,
      "metadata": {
        "id": "GU1UCorFUqVI"
      },
      "outputs": [],
      "source": [
        "x = x.split()"
      ]
    },
    {
      "cell_type": "code",
      "execution_count": null,
      "metadata": {
        "id": "TpaWLBsQUqVJ"
      },
      "outputs": [],
      "source": [
        "y = [x,'test']"
      ]
    },
    {
      "cell_type": "code",
      "execution_count": null,
      "metadata": {
        "id": "0vJh9Nl4UqVJ"
      },
      "outputs": [],
      "source": [
        "y"
      ]
    },
    {
      "cell_type": "markdown",
      "metadata": {
        "id": "mK1VYYR6UqVJ"
      },
      "source": [
        "#### Aufgabe:\n",
        "\n",
        "Erstellen Sie eine Liste mit den Sportarten 'Fussball', 'Schwimmen' und 'Handball' und fügen Sie an zweiter Stelle 'Volleyball' hinzu"
      ]
    },
    {
      "cell_type": "code",
      "execution_count": null,
      "metadata": {
        "id": "Jo5QW1xVUqVJ"
      },
      "outputs": [],
      "source": [
        "\n",
        "\n",
        "\n"
      ]
    },
    {
      "cell_type": "code",
      "execution_count": null,
      "metadata": {
        "id": "Ox2hxoY5UqVJ"
      },
      "outputs": [],
      "source": []
    },
    {
      "cell_type": "code",
      "execution_count": null,
      "metadata": {
        "id": "uHPQuK1gUqVK"
      },
      "outputs": [],
      "source": []
    },
    {
      "cell_type": "markdown",
      "metadata": {
        "id": "DiWzelC7UqVK"
      },
      "source": [
        "## For-Schleifen"
      ]
    },
    {
      "cell_type": "markdown",
      "metadata": {
        "id": "V2x8o-KSUqVK"
      },
      "source": [
        "Oft will man Befehle mehrfach ausführen. Das lässt sich mit for-Schleifen machen:"
      ]
    },
    {
      "cell_type": "code",
      "execution_count": null,
      "metadata": {
        "id": "OGOAJ3AFUqVK"
      },
      "outputs": [],
      "source": [
        "for n in range(6):\n",
        "    print('Hallo')"
      ]
    },
    {
      "cell_type": "markdown",
      "metadata": {
        "id": "_YZnzMP-UqVK"
      },
      "source": [
        "Hier sieht man eine wichtige Eigenschaft von Python, nämlich die Einrückung, um Code-Blöcke zu kennzeichnen:\n",
        "Die Zeile mit dem for-Befehl gibt an, wie oft das Folgende ausgeführt werden soll und wird mit Doppelpunkt abgeschlossen. Alle Befehle, die dann in dieser Schleife ausgeführt werden sollen, sind dann dadurch gekennzeichnet, dass sie um einen Tab-Stopp eingerückt sind.\n",
        "\n",
        "Normalerweise spielt bei Programmiersprachen sogenannter Whitespace (also Leerzeichen, Tab-Stops oder ähnliches) gar keine Rolle. Hier ist Python anders.\n",
        "\n",
        "Selbstverständlich kann man auch mehrere Befehle in der Schleife ausführen:"
      ]
    },
    {
      "cell_type": "code",
      "execution_count": null,
      "metadata": {
        "id": "hAFFqAa1UqVK"
      },
      "outputs": [],
      "source": [
        "for n in range(6):\n",
        "    print('Hallo')\n",
        "    print('Welt')\n",
        "print('Diese Anweisung kommt nur einmal, da sie nicht eingerückt ist und daher nicht mehr Teil der Schleife ist')"
      ]
    },
    {
      "cell_type": "markdown",
      "metadata": {
        "id": "Np5sJFrHUqVL"
      },
      "source": [
        "Die For-Schleife füllt eine angegebene Variable (hier n) mit Werten, die kann man auch als Schleifenzähler verwenden:"
      ]
    },
    {
      "cell_type": "code",
      "execution_count": null,
      "metadata": {
        "id": "pYzzARTRUqVL"
      },
      "outputs": [],
      "source": [
        "for n in range(6):\n",
        "    print(n)"
      ]
    },
    {
      "cell_type": "markdown",
      "metadata": {
        "id": "ikFjb12eUqVL"
      },
      "source": [
        "In Python kann man mit For-Schleifen auch sehr bequem über String oder Listen iterieren:"
      ]
    },
    {
      "cell_type": "code",
      "execution_count": null,
      "metadata": {
        "id": "QP5SUmZKUqVL"
      },
      "outputs": [],
      "source": [
        "for n in 'Banane':\n",
        "    print(n)"
      ]
    },
    {
      "cell_type": "code",
      "execution_count": null,
      "metadata": {
        "id": "QgtVejdtUqVL"
      },
      "outputs": [],
      "source": [
        "for n in meineListe:\n",
        "    print(n)"
      ]
    },
    {
      "cell_type": "markdown",
      "metadata": {
        "id": "Z3JqXmlVUqVL"
      },
      "source": [
        "## If-Bedingungen"
      ]
    },
    {
      "cell_type": "markdown",
      "metadata": {
        "id": "6WLhCiK9UqVL"
      },
      "source": [
        "Oft kommt es auch vor, dass man Befehle nur unter bestimmten Bedingungen ausführen will. Dazu kann man if verwenden"
      ]
    },
    {
      "cell_type": "code",
      "execution_count": null,
      "metadata": {
        "id": "Bq-qq516UqVM"
      },
      "outputs": [],
      "source": [
        "a = 5\n",
        "b = 3\n",
        "if a > b:\n",
        "    print('a ist größer als b')"
      ]
    },
    {
      "cell_type": "markdown",
      "metadata": {
        "id": "lOFtfGEqUqVM"
      },
      "source": [
        "Hier ist die Bedingung wahr (sie trifft also zu), daher wir der Print-Befehl ausgeführt (Wie zuvor bei der Schleife sind die unter der Bedingung auszuführenden Befehle durch Tab-Stop eingerückt)"
      ]
    },
    {
      "cell_type": "code",
      "execution_count": null,
      "metadata": {
        "id": "rqZfEHqpUqVM"
      },
      "outputs": [],
      "source": [
        "a = 3\n",
        "b = 5\n",
        "if a > b:\n",
        "    print('a ist größer als b')\n"
      ]
    },
    {
      "cell_type": "markdown",
      "metadata": {
        "id": "DfaHsE8dUqVM"
      },
      "source": [
        "Hier ist die Bedingung falsch, daher wird nichts ausgeführt.\n",
        "\n",
        "Die if-Abfrage lässt sich nun mit weiteren Bedingungen erweitern, die für den Fall aktiviert werden, dass die erste if-Abfrage das Ergebnis 'falsch' liefert:"
      ]
    },
    {
      "cell_type": "code",
      "execution_count": null,
      "metadata": {
        "id": "KiYBYmSsUqVM"
      },
      "outputs": [],
      "source": [
        "a = 5\n",
        "b = 5\n",
        "if a > b:\n",
        "    print('a ist größer als b')\n",
        "elif a == b:\n",
        "    print('a ist gleich groß wie b')"
      ]
    },
    {
      "cell_type": "markdown",
      "metadata": {
        "id": "8G1PBOmEUqVM"
      },
      "source": [
        "Zu beachten: Da es sich hier bei a==b nicht um eine Variablenzuweisung handelt, sondern tatsächlich um einen Vergleich, wird hier doppeltes Gleichheitstzeichen gesetzt. Doppeltes Gleichheitszeichen entspricht also eher dem, was wir aus der Mathematik von Gleichheitstzeichen gewohnt sind. Das ist etwas kontraintuitiv, hat sich aber bei Programmiersprachen so eingebürgert."
      ]
    },
    {
      "cell_type": "markdown",
      "metadata": {
        "id": "l2JBnojyUqVN"
      },
      "source": [
        "Schließlich können wir mit else noch einen Befehlsblock definieren, der ausgeführt werden soll, wenn die vorigen Bedingungen alle nicht zutreffen."
      ]
    },
    {
      "cell_type": "code",
      "execution_count": null,
      "metadata": {
        "id": "0iJJArRNUqVN"
      },
      "outputs": [],
      "source": [
        "a = 6\n",
        "b = 5\n",
        "if a > b:\n",
        "    print('a ist größer als b')\n",
        "elif a == b:\n",
        "    print('a ist gleich groß wie b')\n",
        "else:\n",
        "    print ('a ist nicht größer als b')"
      ]
    },
    {
      "cell_type": "markdown",
      "metadata": {
        "id": "36D9IY3sUqVN"
      },
      "source": [
        "#### Aufgabe:\n",
        "\n",
        "Verändern Sie im vorigen Beispiel die Werte von a und b und sehen Sie sich die Ergebnisse an."
      ]
    },
    {
      "cell_type": "markdown",
      "metadata": {
        "id": "w5oIwTkuUqVN"
      },
      "source": [
        "Man kann auch mehrere Verbindungen verknüpfen, das geht zumeist mit and und or:"
      ]
    },
    {
      "cell_type": "markdown",
      "source": [],
      "metadata": {
        "id": "McddKI1ZX1Zq"
      }
    },
    {
      "cell_type": "code",
      "execution_count": null,
      "metadata": {
        "id": "DM1e7ckrUqVO"
      },
      "outputs": [],
      "source": [
        "a = 3\n",
        "b = 5\n",
        "c = 6\n",
        "\n",
        "if a < b and a < c:\n",
        "    print('beide Bedingungen erfüllt')"
      ]
    },
    {
      "cell_type": "code",
      "execution_count": null,
      "metadata": {
        "id": "0aTH3LGiUqVP"
      },
      "outputs": [],
      "source": [
        "a = 3\n",
        "b = 5\n",
        "c = 2\n",
        "\n",
        "if a < b or a < c:\n",
        "    print('zumindest eine der beiden Bedingungen erfüllt')"
      ]
    },
    {
      "cell_type": "markdown",
      "metadata": {
        "id": "ir5UgOTAUqVP"
      },
      "source": [
        "#### Aufgabe:\n",
        "\n",
        "Experimentieren Sie mit den vorigen Beispielen indem Sie die Werte der Variablen verändern bzw.  else oder elif-Bedingungen hinzufügen"
      ]
    },
    {
      "cell_type": "code",
      "execution_count": null,
      "metadata": {
        "id": "B6C_-GoTUqVP"
      },
      "outputs": [],
      "source": [
        "\n",
        "\n",
        "\n",
        "\n"
      ]
    },
    {
      "cell_type": "markdown",
      "metadata": {
        "id": "wt9ypN-nUqVQ"
      },
      "source": [
        "## Files lesen"
      ]
    },
    {
      "cell_type": "markdown",
      "metadata": {
        "id": "B38e2IyTUqVQ"
      },
      "source": [
        "Daten können auch aus Dateien, die sich am Computer (oder sonst wo) befinden in Python eingebunden werden.\n",
        "\n",
        "Folgende Anweisungen lesen den Inhalt der Datei 'DRT.txt', die die Kurzerzählung \"Der Roßtäuscher\" des Strickers enthält. Die Datei muss zuerst zum Lesen geöffnet werden (`open`-Funktion mit den Angaben zum Datei-Namen und der Option 'r' für Lesezugang) und wird in die Variable `f` gepackt .\n",
        "\n",
        "\n",
        "Dann kann die Datei mit der `read()`-Methode gelesen werden:"
      ]
    },
    {
      "cell_type": "code",
      "execution_count": null,
      "metadata": {
        "id": "uhUqniHjUqVQ"
      },
      "outputs": [],
      "source": [
        "f = open('/content/drive/My Drive/DigMedTutorial/DRT.txt', 'r')\n",
        "print(f.read())"
      ]
    },
    {
      "cell_type": "markdown",
      "metadata": {
        "id": "10U3IZqjUqVQ"
      },
      "source": [
        "Die Datei befindet sich im Ordner DigMedTutorial auf dem Drive. Wenn sie in einem anderen Ordner ist, muss der Pfad angegeben werden, also z.b. f = open('Desktop/meineText/DRT.txt', 'r')"
      ]
    },
    {
      "cell_type": "markdown",
      "metadata": {
        "id": "NQRk4-T7UqVQ"
      },
      "source": [
        "Die Datei kann nun auch in eine Variable gepackt werden:"
      ]
    },
    {
      "cell_type": "code",
      "execution_count": null,
      "metadata": {
        "id": "rd_TRTCjUqVQ"
      },
      "outputs": [],
      "source": [
        "f = open('/content/drive/My Drive/DigMedTutorial/DRT.txt', 'r')\n",
        "meinText = f.read()\n",
        "print(meinText)"
      ]
    },
    {
      "cell_type": "markdown",
      "metadata": {
        "id": "gbOvuZc7UqVQ"
      },
      "source": [
        "Oft ist es sinnvoller, die Datei Zeile für Zeile durchzugehen, dazu können wir eine For-Schleife verwenden:"
      ]
    },
    {
      "cell_type": "code",
      "execution_count": null,
      "metadata": {
        "id": "x6-Xhq1mUqVQ"
      },
      "outputs": [],
      "source": [
        "f = open('/content/drive/My Drive/DigMedTutorial/DRT.txt', \"r\")\n",
        "for zeile in f:\n",
        "    print(zeile)"
      ]
    },
    {
      "cell_type": "markdown",
      "metadata": {
        "id": "VERKPXy8UqVR"
      },
      "source": [
        "So können wir auch den Text in eine Liste packen (die wir zunächst mit list() als leere Liste definieren müssen)"
      ]
    },
    {
      "cell_type": "code",
      "execution_count": null,
      "metadata": {
        "id": "GzLzvSvyUqVR"
      },
      "outputs": [],
      "source": [
        "textListe = list()\n",
        "\n",
        "f = open(\"/content/drive/My Drive/DigMedTutorial/DRT.txt\", \"r\")\n",
        "for zeile in f:\n",
        "    textListe.append(zeile)"
      ]
    },
    {
      "cell_type": "markdown",
      "metadata": {
        "id": "h0ueP6ZWUqVR"
      },
      "source": [
        "So sieht jetzt die Liste aus:"
      ]
    },
    {
      "cell_type": "code",
      "execution_count": null,
      "metadata": {
        "id": "c438yuITUqVR"
      },
      "outputs": [],
      "source": [
        "print(textListe)"
      ]
    },
    {
      "cell_type": "markdown",
      "metadata": {
        "id": "U_CvG_k5UqVR"
      },
      "source": [
        "Hier tauchen jetzt viele '\\n'-Zeichen auf. Das ist der Code für den Zeilenumbruch (newline). Diese Newline-Zeichen können wir mit der Methode strip() entfernen."
      ]
    },
    {
      "cell_type": "code",
      "execution_count": null,
      "metadata": {
        "id": "NulZpaZOUqVR"
      },
      "outputs": [],
      "source": [
        "textListe = list()\n",
        "\n",
        "f = open('/content/drive/My Drive/DigMedTutorial/DRT.txt', \"r\")\n",
        "for zeile in f:\n",
        "\n",
        "    textListe.append(zeile.strip())"
      ]
    },
    {
      "cell_type": "markdown",
      "metadata": {
        "id": "Rf5UMe6sUqVR"
      },
      "source": [
        "Sieht schon besser aus:"
      ]
    },
    {
      "cell_type": "code",
      "execution_count": null,
      "metadata": {
        "id": "L6zmNhItUqVR"
      },
      "outputs": [],
      "source": [
        "print(textListe)"
      ]
    },
    {
      "cell_type": "markdown",
      "metadata": {
        "id": "MZ4adXWyUqVR"
      },
      "source": [
        "Allerdings sind in unserer Liste jetzt leere Einträge drinnen (''), die anstelle der Zeilen stehen, die zuvor nur aus '\\n' bestanden.\n",
        "\n",
        "Die können wir ausschließen, indem wir beim Lesen der Datei eine if-Bedingung mit der strip()-Methode einfügen:"
      ]
    },
    {
      "cell_type": "code",
      "execution_count": null,
      "metadata": {
        "id": "jwwshh4NUqVR"
      },
      "outputs": [],
      "source": [
        "textListe = list()\n",
        "\n",
        "f = open('/content/drive/My Drive/DigMedTutorial/DRT.txt', \"r\")\n",
        "for zeile in f:\n",
        "    if zeile.strip():\n",
        "        textListe.append(zeile.strip())\n",
        "\n"
      ]
    },
    {
      "cell_type": "markdown",
      "metadata": {
        "id": "ML_g86AbUqVR"
      },
      "source": [
        "Jetzt ist es perfekt:"
      ]
    },
    {
      "cell_type": "code",
      "execution_count": null,
      "metadata": {
        "id": "XfYzx9e2UqVR"
      },
      "outputs": [],
      "source": [
        "print(textListe)"
      ]
    },
    {
      "cell_type": "markdown",
      "metadata": {
        "id": "Fl5kgqZ3UqVS"
      },
      "source": [
        "Der Ordnung halber sollten geöffnete Dateien wieder geschlossen werden:"
      ]
    },
    {
      "cell_type": "code",
      "execution_count": null,
      "metadata": {
        "id": "Sij_HmUgUqVS"
      },
      "outputs": [],
      "source": [
        "f.close()"
      ]
    },
    {
      "cell_type": "markdown",
      "metadata": {
        "id": "7oH7dKOtUqVS"
      },
      "source": [
        "## Packages"
      ]
    },
    {
      "cell_type": "markdown",
      "metadata": {
        "id": "Qb5q7ad7UqVS"
      },
      "source": [
        "Python eignet sich deshalb so gut für Textverarbeitung, weil es viele vorgefertigte Packages gibt, die man einfach nur noch anwenden muss.\n",
        "\n",
        "Diese Packages muss man zunächst vorinstallieren (lässt sich über Anaconda oder wie im Folgenden machen) und dann importieren mit dem Befehl import.\n",
        "\n"
      ]
    },
    {
      "cell_type": "markdown",
      "metadata": {
        "id": "_bbkWbBbUqVS"
      },
      "source": [
        "Zunächst installieren wir das `nltk`-Package, das viele Funktionen und Methoden zum Natural Language Processing bereithält, mit `pip`"
      ]
    },
    {
      "cell_type": "code",
      "execution_count": null,
      "metadata": {
        "id": "UumiDxSFUqVS"
      },
      "outputs": [],
      "source": [
        "pip install nltk"
      ]
    },
    {
      "cell_type": "markdown",
      "metadata": {
        "id": "ul2oGAE0UqVS"
      },
      "source": [
        "Dann importieren wir das Package:"
      ]
    },
    {
      "cell_type": "code",
      "execution_count": null,
      "metadata": {
        "id": "8ggojAzvUqVS"
      },
      "outputs": [],
      "source": [
        "import nltk"
      ]
    },
    {
      "cell_type": "markdown",
      "metadata": {
        "id": "ju-_k78dUqVS"
      },
      "source": [
        "Jetzt können wir zum Beispiel bequem Bigramme aus Texten erstellen:\n",
        "\n",
        "Dazu müssen wir den Text mit split() zunächst in eine Liste mit Wörter zerlegen, auf die wir dann die nltk-Methode bigrams() anwenden können."
      ]
    },
    {
      "cell_type": "code",
      "execution_count": null,
      "metadata": {
        "id": "Ir7ZfbGjUqVS"
      },
      "outputs": [],
      "source": [
        "MeineBigrams = nltk.bigrams(meinText.split())"
      ]
    },
    {
      "cell_type": "markdown",
      "metadata": {
        "id": "nn6JTsM3UqVS"
      },
      "source": [
        "Das Ergebnis ist ein generator object..."
      ]
    },
    {
      "cell_type": "code",
      "execution_count": null,
      "metadata": {
        "id": "bvJabF-kUqVT"
      },
      "outputs": [],
      "source": [
        "print(MeineBigrams)"
      ]
    },
    {
      "cell_type": "markdown",
      "metadata": {
        "id": "JnpryOBVUqVT"
      },
      "source": [
        "... das wir mit der Funktion list() 'vernünftig' ansehen können"
      ]
    },
    {
      "cell_type": "code",
      "execution_count": null,
      "metadata": {
        "id": "19lWmQdLUqVT"
      },
      "outputs": [],
      "source": [
        "list(MeineBigrams)"
      ]
    },
    {
      "cell_type": "markdown",
      "metadata": {
        "id": "Dn2rs81NUqVT"
      },
      "source": [
        "Diese Liste können wir natürlich auch wieder in einer Listen-Variable speichern."
      ]
    },
    {
      "cell_type": "code",
      "execution_count": null,
      "metadata": {
        "id": "cpeNHm6uUqVT"
      },
      "outputs": [],
      "source": [
        "MeineBigrams = nltk.bigrams(meinText.split())\n",
        "BigramListe = list(MeineBigrams)"
      ]
    },
    {
      "cell_type": "markdown",
      "metadata": {
        "id": "K9L7HAEVUqVT"
      },
      "source": [
        "#### Aufgabe:\n",
        "\n",
        "Überprüfen Sie mit Hilfe einer For-Schleife, ob das Bigram ('euch', 'wieder') in unserem Text vorhanden ist (Geben Sie in diesem Fall 'ist vorhanden' aus.\n",
        "\n",
        "Zusatzaufgabe: Zählen Sie, wie oft das Bigram vorhanden ist."
      ]
    },
    {
      "cell_type": "code",
      "execution_count": null,
      "metadata": {
        "id": "h5AVoPLZUqVT"
      },
      "outputs": [],
      "source": [
        "\n",
        "\n",
        "\n",
        "\n",
        "\n"
      ]
    }
  ],
  "metadata": {
    "kernelspec": {
      "display_name": "Python 3",
      "language": "python",
      "name": "python3"
    },
    "language_info": {
      "codemirror_mode": {
        "name": "ipython",
        "version": 3
      },
      "file_extension": ".py",
      "mimetype": "text/x-python",
      "name": "python",
      "nbconvert_exporter": "python",
      "pygments_lexer": "ipython3",
      "version": "3.8.8"
    },
    "colab": {
      "provenance": []
    }
  },
  "nbformat": 4,
  "nbformat_minor": 0
}